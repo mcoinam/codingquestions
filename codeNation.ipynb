{
 "cells": [
  {
   "cell_type": "markdown",
   "metadata": {},
   "source": [
    " (Easy) // not the exact words <br>\n",
    " Q3. Alice and Bob agreed to gift each other some candies (of different costs). \n",
    " Bob gave a list of cost of all the candies he wanted and Alice bought it and gifted him.\n",
    " It's Bob's turn now.<br>\n",
    " But, he is in a tight budget so he asked Alice to remove a particular type of candy with cost 'X' of Alice's choice. <br>\n",
    " What is the minimum possible expenditure of Bob? "
   ]
  },
  {
   "cell_type": "code",
   "execution_count": 13,
   "metadata": {},
   "outputs": [],
   "source": [
    "# shitty way\n",
    "# needs further checking\n",
    "def solve(A):\n",
    "    tot = []\n",
    "    for i in range(len(A)):\n",
    "        if i == len(A)-1:\n",
    "            tot.append(A[i])\n",
    "            break\n",
    "        s = A[i]\n",
    "        if(A[i]==A[i+1]):\n",
    "            s += A[i+1]\n",
    "        tot.append(s)\n",
    "    ans = sum(A) - max(tot)\n",
    "    return ans"
   ]
  },
  {
   "cell_type": "code",
   "execution_count": 3,
   "metadata": {
    "scrolled": true
   },
   "outputs": [
    {
     "data": {
      "text/plain": [
       "27"
      ]
     },
     "execution_count": 3,
     "metadata": {},
     "output_type": "execute_result"
    }
   ],
   "source": [
    "solve([10,10,8,8,8,3])"
   ]
  },
  {
   "cell_type": "code",
   "execution_count": 7,
   "metadata": {},
   "outputs": [],
   "source": [
    "# avichal's code\n",
    "# using dictionary\n",
    "\n",
    "def solve(A):\n",
    "    # count the occurrences of each number in A and store in a dictionary (key = element, value = frequency )\n",
    "    d = {}\n",
    "    for i in A:\n",
    "        if i in d:\n",
    "            d[i]+=1\n",
    "        else:\n",
    "            d[i]=1\n",
    "    ans = []\n",
    "    for k in d:\n",
    "        ans.append(k*d[k])\n",
    "    ans = sorted(ans)\n",
    "    ans.pop()\n",
    "    return sum(ans)\n",
    "    "
   ]
  },
  {
   "cell_type": "code",
   "execution_count": 8,
   "metadata": {},
   "outputs": [
    {
     "data": {
      "text/plain": [
       "23"
      ]
     },
     "execution_count": 8,
     "metadata": {},
     "output_type": "execute_result"
    }
   ],
   "source": [
    "solve([10,10,8,8,8,3])"
   ]
  },
  {
   "cell_type": "code",
   "execution_count": 11,
   "metadata": {},
   "outputs": [],
   "source": [
    "#\n",
    "def solve(A):\n",
    "    d = {}\n",
    "    for i in A:\n",
    "        if i in d:\n",
    "            d[i] += 1\n",
    "        else:\n",
    "            d[i] = 1\n",
    "    li = []\n",
    "    for k in d:\n",
    "        li.append(k*d[k])\n",
    "    return sum(A)-max(li)"
   ]
  },
  {
   "cell_type": "code",
   "execution_count": 12,
   "metadata": {},
   "outputs": [
    {
     "data": {
      "text/plain": [
       "23"
      ]
     },
     "execution_count": 12,
     "metadata": {},
     "output_type": "execute_result"
    }
   ],
   "source": [
    "solve([10,10,8,8,8,3])"
   ]
  }
 ],
 "metadata": {
  "kernelspec": {
   "display_name": "Python 3",
   "language": "python",
   "name": "python3"
  },
  "language_info": {
   "codemirror_mode": {
    "name": "ipython",
    "version": 3
   },
   "file_extension": ".py",
   "mimetype": "text/x-python",
   "name": "python",
   "nbconvert_exporter": "python",
   "pygments_lexer": "ipython3",
   "version": "3.7.6"
  }
 },
 "nbformat": 4,
 "nbformat_minor": 4
}
