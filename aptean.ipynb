{
 "cells": [
  {
   "cell_type": "markdown",
   "metadata": {},
   "source": [
    "### Number of Ways :\n",
    "Q. There are N people living in a room. Write a program that counts the total number of ways to divide the people into two groups such that each group comprises of at least one member each. As the answer can be large, print modulo 10^9 + 7.<br>\n",
    "<em>Input: <br>\n",
    "1 (number of test cases) <br>\n",
    "2 (number of people in the room <br>\n",
    "Output: <br>\n",
    "2"
   ]
  },
  {
   "cell_type": "code",
   "execution_count": 1,
   "metadata": {},
   "outputs": [],
   "source": [
    "def nCr(n,r):\n",
    "    a = 1;\n",
    "    b = 1;\n",
    "    for i in range(n,(n-r+1)-1,-1):\n",
    "        a *= i\n",
    "    for i in range(1,r+1):\n",
    "        b *= i\n",
    "    return a//b\n",
    "        \n",
    "def numOfWays(n):\n",
    "    ans = 0\n",
    "    for i in range(1,n):\n",
    "        ans += nCr(n,i)\n",
    "    return ans\n",
    "    "
   ]
  },
  {
   "cell_type": "code",
   "execution_count": 2,
   "metadata": {
    "scrolled": true
   },
   "outputs": [
    {
     "name": "stdout",
     "output_type": "stream",
     "text": [
      "1\n",
      "3\n",
      "6\n"
     ]
    }
   ],
   "source": [
    "t = int(input())\n",
    "for i in range(t):\n",
    "    n = int(input())\n",
    "    print(numOfWays(n))"
   ]
  },
  {
   "cell_type": "code",
   "execution_count": null,
   "metadata": {},
   "outputs": [],
   "source": []
  }
 ],
 "metadata": {
  "kernelspec": {
   "display_name": "Python 3",
   "language": "python",
   "name": "python3"
  },
  "language_info": {
   "codemirror_mode": {
    "name": "ipython",
    "version": 3
   },
   "file_extension": ".py",
   "mimetype": "text/x-python",
   "name": "python",
   "nbconvert_exporter": "python",
   "pygments_lexer": "ipython3",
   "version": "3.7.6"
  }
 },
 "nbformat": 4,
 "nbformat_minor": 4
}
