{
 "cells": [
  {
   "cell_type": "markdown",
   "metadata": {},
   "source": [
    "### Delhivery coding questions"
   ]
  },
  {
   "cell_type": "markdown",
   "metadata": {},
   "source": [
    "#### finding pairs :\n",
    "You are given a pair (a,b). After each unit of time, pair (a,b) gets changed to (b-a,b+a). <br>\n",
    "You are given the initial value of pair and an integer n and you have to print the value of the pair at the nth unit of time. <br>\n",
    "* first line : t denoting the number of test cases \n",
    "* next t lines : three space-separated integers a,b and n\n",
    "\n",
    "Output format :\n",
    "for each test case, print two integers (mod 10^9 + 7) per line denoting the value of the pair at the nth unit time\n",
    "\n",
    "Sample input : <br>\n",
    "5 <br>\n",
    "1 3 5 <br>\n",
    "2 3 9 <br>\n",
    "3 13 20<br>\n",
    "42 999 1881<br>\n",
    "4 97 43 <br>\n",
    "\n",
    "Sample output: <br>\n",
    "4 12 <br>\n",
    "32 48 <br>\n",
    "8180 131072 <br>\n",
    "728771468 762921230 <br>\n",
    "8388608 203423744 <br>\n",
    "\n"
   ]
  },
  {
   "cell_type": "markdown",
   "metadata": {},
   "source": [
    "### Adjacent cubes"
   ]
  },
  {
   "cell_type": "markdown",
   "metadata": {},
   "source": [
    "You are given N cubes of wood arrange in strictly non-decreasing order . The length of the side of the ith cube is x[i] <br>\n",
    "and the side lengths of all the cubes are distinct. The first and the last cubes are glued at their positions and they cannot be moved. <br>\n",
    "The difference , _diff_, of the cubes is defined as the __maximum__ difference of the sides of two adjacent cubes for all the  cubes<br> in the arrangement _diff = max(x[i+1] - x[i]) for 1 <= i <= N - 1_ <br>\n",
    "You are required to __minimize__ the diff value of the cube arrangement by removing exactly K cubes. <br>\n",
    "__input format__\n",
    "* first line :  an integer N\n",
    "* second line : N space-separated integers x[i] where x[i] is the length of the side of ith cube\n",
    "* third line : an integer K\n",
    "\n",
    "__output format__\n",
    "* Print a single integer that is the __minimum__ _diff_ value of the cube arrangement after removing K cubes\n",
    "\n",
    "\n",
    "__Sample input__ : <br>\n",
    "5 <br>\n",
    "1 2 3 4 7 8 <br>\n",
    "2 <br>\n",
    "\n",
    "__Explanation__:\n",
    "In 3 ways we can remove K elements. <br> The 3 cases are (1,7,8) (1,3,8) and (1,2,8). <br>The diff value in the 3 cases are\n",
    "6 i.e. (7-1), 5 i.e. (8-3), 6 i.e. (8-2). Hence the __minimum__ of all these cases is 5\n",
    "    "
   ]
  },
  {
   "cell_type": "markdown",
   "metadata": {},
   "source": [
    "###  Smallest common substrings\n"
   ]
  },
  {
   "cell_type": "markdown",
   "metadata": {},
   "source": [
    "You are given two strings __A__ and __B__ that are made of lowercase English alphabets. <br> Find the number of different pairs ((i,j),(k,l)) such that <br> the substrings A[i...j] and B[k...l] are equal and the value of j-i+1 is minimum <br>\n",
    "__input__: <br>\n",
    "* first line : string A\n",
    "* second line : string B\n",
    "\n",
    "\n",
    "__output__:\n",
    "* the number of different pairs ((i,j),(k,l)) such that <br> the substrings A[i...j] and B[k...l] are equal and the value of j-i+1 is minimum \n",
    "\n",
    "___Example___ :\n",
    "* input : <br>\n",
    "abdc<br>\n",
    "bd<br>\n",
    "* output ; <br>\n",
    "2\n",
    "\n"
   ]
  }
 ],
 "metadata": {
  "kernelspec": {
   "display_name": "Python 3",
   "language": "python",
   "name": "python3"
  },
  "language_info": {
   "codemirror_mode": {
    "name": "ipython",
    "version": 3
   },
   "file_extension": ".py",
   "mimetype": "text/x-python",
   "name": "python",
   "nbconvert_exporter": "python",
   "pygments_lexer": "ipython3",
   "version": "3.7.6"
  }
 },
 "nbformat": 4,
 "nbformat_minor": 4
}
